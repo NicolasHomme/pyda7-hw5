{
 "cells": [
  {
   "cell_type": "markdown",
   "metadata": {},
   "source": [
    "# Домашнее задание к лекции \"Регулярные выражения\"\n",
    "Для зачета необходимо выполнить 4 задания.  \n",
    "Для зачета с отличием – все."
   ]
  },
  {
   "cell_type": "markdown",
   "metadata": {},
   "source": [
    "## Задание 1"
   ]
  },
  {
   "cell_type": "markdown",
   "metadata": {},
   "source": [
    "Напишите функцию, которая принимает на вход строку и проверяет является ли она валидным транспортным номером. Если да, то функция должна возвращать отдельно номер и регион."
   ]
  },
  {
   "cell_type": "code",
   "execution_count": 9,
   "metadata": {},
   "outputs": [
    {
     "name": "stdout",
     "output_type": "stream",
     "text": [
      "Введите автомобильный номер: H777XA158\n",
      "Номер корректный: номер H777XA и регион 158\n"
     ]
    }
   ],
   "source": [
    "\"\"\"\n",
    "формат номера взят из https://ru.wikipedia.org/wiki/%D0%A0%D0%B5%D0%B3%D0%B8%D1%81%D1%82%D1%80%D0%B0%D1%86%D0%B8%D0%BE%D0%BD%D0%BD%D1%8B%D0%B5_%D0%B7%D0%BD%D0%B0%D0%BA%D0%B8_%D1%82%D1%80%D0%B0%D0%BD%D1%81%D0%BF%D0%BE%D1%80%D1%82%D0%BD%D1%8B%D1%85_%D1%81%D1%80%D0%B5%D0%B4%D1%81%D1%82%D0%B2_%D0%B2_%D0%A0%D0%BE%D1%81%D1%81%D0%B8%D0%B8\n",
    "используется только формат:\n",
    "формат — буква — 3 цифры — 2 буквы, код региона\n",
    "ГОСТом для использования на знаках разрешены 12 букв кириллицы, имеющие графические аналоги в латинском алфавите \n",
    "— А, В, Е, К, М, Н, О, Р, С, Т, У и Х.\n",
    "\"\"\"\n",
    "import re\n",
    "\n",
    "def check_auto_number(number):\n",
    "    result = re.findall(r'[АВЕКМНОРСТУХABEKMHOPCTYX]{1}\\d{3}[АВЕКМНОРСТУХABEKMHOPCTYX]{2}\\d{2,3}', number)\n",
    "    if len(result)>0:\n",
    "        return [result[0][0:6], result[0][6:]]\n",
    "    else:\n",
    "        return False\n",
    "\n",
    "res = check_auto_number(input('Введите автомобильный номер: '))\n",
    "if not res:\n",
    "    print('Номер введен неправильно!')\n",
    "else:\n",
    "    print(f'Номер корректный: номер {res[0]} и регион {res[1]}')"
   ]
  },
  {
   "cell_type": "markdown",
   "metadata": {},
   "source": [
    "## Задание 2"
   ]
  },
  {
   "cell_type": "markdown",
   "metadata": {},
   "source": [
    "Напишите функцию, которая проверяет e-mail адрес на валидность по стандарту RFC822: http://www.w3.org/Protocols/rfc822/. Для этого постарайтесь написать (в крайнем случае найти) самый полный шаблон для проверки e-mail адресов через регулярное выражение. Разберитесь и напишите примеры, какие ваш шаблон может не охватить."
   ]
  },
  {
   "cell_type": "code",
   "execution_count": 15,
   "metadata": {},
   "outputs": [
    {
     "name": "stdout",
     "output_type": "stream",
     "text": [
      "Введите адрес эл.почты: fsdf.asd_asd@adasd.ada.ru\n",
      "Адрес эл.почты корректный\n"
     ]
    }
   ],
   "source": [
    "\"\"\"\n",
    "Проверка валидности почты на соответствие стандарту из https://www.w3.org/Protocols/rfc822/\n",
    "\"\"\"\n",
    "import re\n",
    "\n",
    "def validate_email(number):\n",
    "    #вариант с наиболее полным форматом из интернет http://www.ex-parrot.com/~pdw/Mail-RFC822-Address.html\n",
    "    #(?:[a-z0-9!#$%&'*+/=?^_`{|}~-]+(?:\\.[a-z0-9!#$%&'*+/=?^_`{|}~-]+)*|\"(?:[\\x01-\\x08\\x0b\\x0c\\x0e-\\x1f\\x21\\x23-\\x5b\\x5d-\\x7f]|\\\\[\\x01-\\x09\\x0b\\x0c\\x0e-\\x7f])*\")@(?:(?:[a-z0-9](?:[a-z0-9-]*[a-z0-9])?\\.)+[a-z0-9](?:[a-z0-9-]*[a-z0-9])?|\\[(?:(?:25[0-5]|2[0-4][0-9]|[01]?[0-9][0-9]?)\\.){3}(?:25[0-5]|2[0-4][0-9]|[01]?[0-9][0-9]?|[a-z0-9-]*[a-z0-9]:(?:[\\x01-\\x08\\x0b\\x0c\\x0e-\\x1f\\x21-\\x5a\\x53-\\x7f]|\\\\[\\x01-\\x09\\x0b\\x0c\\x0e-\\x7f])+)\\])\n",
    "        \n",
    "    #вариант 2 - собственный вариант\n",
    "    email_regex=r'^[a-zA-Z0-9_.+-]+@[a-zA-Z0-9-]+\\.[a-zA-Z0-9-.]+$'\n",
    "    result = re.findall(email_regex, number)\n",
    "    if len(result)>0:\n",
    "        return True\n",
    "    else:\n",
    "        return False\n",
    "\n",
    "res = validate_email(input('Введите адрес эл.почты: '))\n",
    "if not res:\n",
    "    print('Адрес эл.почты введен неправильно!')\n",
    "else:\n",
    "    print('Адрес эл.почты корректный')"
   ]
  },
  {
   "cell_type": "markdown",
   "metadata": {},
   "source": [
    "## Задание 3\n",
    "Напишите функцию, которая будет удалять все последовательные повторы слов из заданной строки."
   ]
  },
  {
   "cell_type": "code",
   "execution_count": 23,
   "metadata": {},
   "outputs": [
    {
     "name": "stdout",
     "output_type": "stream",
     "text": [
      "Как так одинаковых слов?\n"
     ]
    }
   ],
   "source": [
    "import re\n",
    "\n",
    "def del_repeat_words(number):\n",
    "    regex_pattern = r'(\\b\\w+)([\\s-]+\\1)+'\n",
    "    result=re.sub(regex_pattern, '', number)\n",
    "    result=re.sub(r'\\s+', ' ', result)\n",
    "    return result\n",
    "\n",
    "my_str = 'Как удалить удалить  удалить так много много повторно-повторно одинаковых слов?'\n",
    "res = del_repeat_words(my_str)\n",
    "print(res)"
   ]
  },
  {
   "cell_type": "markdown",
   "metadata": {},
   "source": [
    "## Задание 4\n",
    "Напишите функцию, которая будет проверять номер сотового телефона на валидность, если он валиден, то переводить его в формат:   \n",
    "+7(xxx)-xxx-xx-xx  \n",
    "Постарайтесь предусмотреть как можно больше адекватных форматов изначального ввода номера.\n",
    "Примеры правильных и неправильных форматов:\n",
    "- +7 955 555-55-55;\n",
    "- 955555555;\n",
    "- 8(955)555-55-55;\n",
    "- +7 955 555 55 55;\n",
    "- 7(955) 555-55-55;\n",
    "- +7 955+555+55+55."
   ]
  },
  {
   "cell_type": "code",
   "execution_count": 48,
   "metadata": {},
   "outputs": [
    {
     "name": "stdout",
     "output_type": "stream",
     "text": [
      "Номер +7 955 555-55-55 приведен к виду +7(955)-555-55-55\n",
      "Номер 9558888888 приведен к виду +7(955)-888-88-88\n",
      "Номер 955555555 некорректный\n",
      "Номер 8(955)555-55-55 приведен к виду +7(955)-555-55-55\n",
      "Номер +7 955 555 55 55 приведен к виду +7(955)-555-55-55\n",
      "Номер 7(9545) 555-55-55 некорректный\n",
      "Номер +6 955+555+55+55 некорректный\n",
      "Номер +8 955+555+55+55 приведен к виду +7(955)-555-55-55\n"
     ]
    }
   ],
   "source": [
    "import re\n",
    "\n",
    "def check_phone_number(number):\n",
    "    #очистка от спец.символов\n",
    "    number = re.sub(r'\\D+','',number)\n",
    "    if len(number) == 10:\n",
    "        return re.sub(r'(\\d{3})(\\d{3})(\\d{2})(\\d{2})',r'+7(\\1)-\\2-\\3-\\4',number)\n",
    "    elif len(number) == 11 and number[0] in ['7','8']:\n",
    "        return re.sub(r'\\d(\\d{3})(\\d{3})(\\d{2})(\\d{2})',r'+7(\\1)-\\2-\\3-\\4',number)\n",
    "    else:\n",
    "        return False\n",
    "\n",
    "my_phones = ['+7 955 555-55-55','9558888888','955555555','8(955)555-55-55','+7 955 555 55 55','7(9545) 555-55-55','+6 955+555+55+55','+8 955+555+55+55']\n",
    "for phone in my_phones:\n",
    "    res = check_phone_number(phone)\n",
    "    if res:\n",
    "        print(f'Номер {phone} приведен к виду {res}')\n",
    "    else: \n",
    "        print(f'Номер {phone} некорректный')"
   ]
  },
  {
   "cell_type": "code",
   "execution_count": null,
   "metadata": {},
   "outputs": [],
   "source": []
  }
 ],
 "metadata": {
  "kernelspec": {
   "display_name": "Python 3",
   "language": "python",
   "name": "python3"
  },
  "language_info": {
   "codemirror_mode": {
    "name": "ipython",
    "version": 3
   },
   "file_extension": ".py",
   "mimetype": "text/x-python",
   "name": "python",
   "nbconvert_exporter": "python",
   "pygments_lexer": "ipython3",
   "version": "3.7.1"
  }
 },
 "nbformat": 4,
 "nbformat_minor": 2
}
